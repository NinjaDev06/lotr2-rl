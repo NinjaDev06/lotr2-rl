{
 "cells": [
  {
   "cell_type": "markdown",
   "id": "5e7bd826",
   "metadata": {},
   "source": [
    "# Prototype for splitting screen in block of pixel to reduce action spaces"
   ]
  },
  {
   "cell_type": "code",
   "execution_count": null,
   "id": "7b488373",
   "metadata": {},
   "outputs": [],
   "source": [
    "import numpy as np\n",
    "import pandas as pd\n",
    "import math\n",
    "\n",
    "import matplotlib.pyplot as plt\n",
    "import matplotlib.image as mpimg\n",
    "import matplotlib.patches as patches"
   ]
  },
  {
   "cell_type": "markdown",
   "id": "6bba63ea",
   "metadata": {},
   "source": [
    "# Load images"
   ]
  },
  {
   "cell_type": "code",
   "execution_count": null,
   "id": "064a53a1",
   "metadata": {},
   "outputs": [],
   "source": [
    "world_img = mpimg.imread('../../data/capture/world.png')\n",
    "city_img = mpimg.imread('../../data/capture/city.png')\n",
    "land_img = mpimg.imread('../../data/capture/land.png')"
   ]
  },
  {
   "cell_type": "code",
   "execution_count": null,
   "id": "cf78e040",
   "metadata": {},
   "outputs": [],
   "source": [
    "height = 480\n",
    "width = 640"
   ]
  },
  {
   "cell_type": "code",
   "execution_count": null,
   "id": "43ba873c",
   "metadata": {},
   "outputs": [],
   "source": [
    "fig, ax = plt.subplots(1, 3, figsize = (25,10))\n",
    "\n",
    "ax[0].imshow(world_img)\n",
    "ax[1].imshow(city_img)\n",
    "ax[2].imshow(land_img)\n",
    "plt.show()"
   ]
  },
  {
   "cell_type": "markdown",
   "id": "3298a7fa",
   "metadata": {},
   "source": [
    "# Show different grid size"
   ]
  },
  {
   "cell_type": "code",
   "execution_count": null,
   "id": "11d715a7",
   "metadata": {},
   "outputs": [],
   "source": [
    "def display_grid(axes, size: int):\n",
    "    w = math.ceil(width / size)\n",
    "    h = math.ceil(height / size)\n",
    "    print(f'square of {size} : ({w} * {h}) = {w*h} actions')\n",
    "\n",
    "    for pt in np.arange(0, width, size):\n",
    "        for ax in axes:\n",
    "            ax.axvline(pt, lw=0.5, color='black', alpha=1)\n",
    "\n",
    "    for pt in np.arange(0, height, size):\n",
    "        for ax in axes:\n",
    "            ax.axhline(pt, lw=0.5, color='black', alpha=1)"
   ]
  },
  {
   "cell_type": "code",
   "execution_count": null,
   "id": "31bd7b3c",
   "metadata": {},
   "outputs": [],
   "source": [
    "fig, ax = plt.subplots(1, 3, figsize = (25,10))\n",
    "\n",
    "ax[0].imshow(world_img)\n",
    "ax[1].imshow(city_img)\n",
    "ax[2].imshow(land_img)\n",
    "\n",
    "display_grid(ax, 10)\n",
    "plt.show()"
   ]
  },
  {
   "cell_type": "code",
   "execution_count": null,
   "id": "540fcd60",
   "metadata": {},
   "outputs": [],
   "source": [
    "fig, ax = plt.subplots(1, 3, figsize = (25,10))\n",
    "\n",
    "ax[0].imshow(world_img)\n",
    "ax[1].imshow(city_img)\n",
    "ax[2].imshow(land_img)\n",
    "\n",
    "display_grid(ax, 5)\n",
    "plt.show()"
   ]
  },
  {
   "cell_type": "markdown",
   "id": "890e7761",
   "metadata": {},
   "source": [
    "# Converting Action to coordinate or coordinate to Action"
   ]
  },
  {
   "cell_type": "code",
   "execution_count": null,
   "id": "d83b753c",
   "metadata": {},
   "outputs": [],
   "source": [
    "grid_size = 10\n",
    "grid_width = math.ceil(width / grid_size)\n",
    "grid_height = math.ceil(height / grid_size)\n",
    "action_space = grid_width * grid_height"
   ]
  },
  {
   "cell_type": "code",
   "execution_count": null,
   "id": "356d7fcf",
   "metadata": {},
   "outputs": [],
   "source": [
    "def grid_to_pixel(x) -> float:\n",
    "    return (x*grid_size) - (grid_size/2)\n",
    "\n",
    "def display_click(ax, x, y):\n",
    "    ax.plot(grid_to_pixel(x), grid_to_pixel(y), 'ro')\n",
    "\n",
    "def display_drag(ax, x1, y1, x2, y2):\n",
    "    # display_click(ax, x1, y1)\n",
    "\n",
    "    w = x2 - x1\n",
    "    h = y2 - y1\n",
    "\n",
    "    ax.plot(grid_to_pixel(x2), grid_to_pixel(y2), 'yo')\n",
    "    rect = patches.Rectangle((grid_to_pixel(x1), grid_to_pixel(y1)), w*grid_size, h*grid_size, linewidth=1, edgecolor='y', facecolor='none')\n",
    "    ax.add_patch(rect)"
   ]
  },
  {
   "cell_type": "markdown",
   "id": "005f1766",
   "metadata": {},
   "source": [
    "### Display Click and Drag"
   ]
  },
  {
   "cell_type": "code",
   "execution_count": null,
   "id": "4aaf3227",
   "metadata": {},
   "outputs": [],
   "source": [
    "fig, ax = plt.subplots(1, figsize = (12,8))\n",
    "\n",
    "ax.imshow(city_img)\n",
    "\n",
    "display_grid([ax], grid_size)\n",
    "\n",
    "# One click\n",
    "display_click(ax, 40, 36)\n",
    "\n",
    "# Zone selection\n",
    "display_drag(ax, 24, 25, 26, 28)\n",
    "\n",
    "plt.show()"
   ]
  },
  {
   "cell_type": "markdown",
   "id": "da9a1243",
   "metadata": {},
   "source": [
    "### Action to coordinate - Click"
   ]
  },
  {
   "cell_type": "code",
   "execution_count": null,
   "id": "1e469ed0",
   "metadata": {},
   "outputs": [],
   "source": [
    "def play(ax, action: int):\n",
    "    if action < 0 or action > action_space:\n",
    "        raise ValueError(f'Action should be in range of action space [0, {action_space}]')\n",
    "    \n",
    "    x = action % grid_width + 1\n",
    "    y = action // grid_width + 1\n",
    "\n",
    "    print(f'action {action} : click at ({x}, {y})')\n",
    "    display_click(ax, x, y)    \n"
   ]
  },
  {
   "cell_type": "code",
   "execution_count": null,
   "id": "556458da",
   "metadata": {},
   "outputs": [],
   "source": [
    "fig, ax = plt.subplots(1, figsize = (12,8))\n",
    "\n",
    "ax.imshow(city_img)\n",
    "\n",
    "display_grid([ax], grid_size)\n",
    "\n",
    "# Play multiple click to ensure they all end at right place\n",
    "play(ax, 0)\n",
    "play(ax, 1)\n",
    "play(ax, 5)\n",
    "play(ax, 9)\n",
    "play(ax, 64*2)\n",
    "play(ax, 500)\n",
    "play(ax, 3071)\n",
    "\n",
    "plt.show()"
   ]
  },
  {
   "cell_type": "markdown",
   "id": "b6d42cf2",
   "metadata": {},
   "source": [
    "### Action to coordinate - Drag"
   ]
  },
  {
   "cell_type": "code",
   "execution_count": null,
   "id": "5290c4a8",
   "metadata": {},
   "outputs": [],
   "source": [
    "fig, ax = plt.subplots(1, figsize = (12,8))\n",
    "\n",
    "ax.imshow(city_img)\n",
    "\n",
    "display_grid([ax], grid_size)\n",
    "\n",
    "last_click_x = 0\n",
    "last_click_y = 0\n",
    "def play2(ax, action: int):\n",
    "    global last_click_x\n",
    "    global last_click_y\n",
    "\n",
    "    if action < 0 or action > action_space*2:\n",
    "        raise ValueError(f'Action should be in range of action space [0, {action_space*2}]')\n",
    "\n",
    "    c = action // action_space + 1\n",
    "    x = (action%action_space) % grid_width + 1\n",
    "    y = (action%action_space) // grid_width + 1\n",
    "\n",
    "    if c == 1:\n",
    "        print(f'action {action} : click at ({x}, {y})')\n",
    "        display_click(ax, x, y)    \n",
    "\n",
    "        last_click_x = x\n",
    "        last_click_y = y\n",
    "    elif c == 2:\n",
    "        print(f'action {action} : drag from ({last_click_x}, {last_click_y}) to ({x}, {y})')\n",
    "        display_drag(ax, last_click_x, last_click_y, x, y)    \n",
    "    else:\n",
    "        raise ValueError('Click type {c} is not supported')\n",
    "\n",
    "def coordinate_to_action(x, y, click) -> int:\n",
    "    return (x-1) + grid_width * (y-1) + ((click-1) * action_space)\n",
    "\n",
    "# play(ax, 0 + action_space)\n",
    "\n",
    "# play2(ax, 0)\n",
    "play2(ax, coordinate_to_action(1, 1, 1))\n",
    "play2(ax, coordinate_to_action(3, 2, 2))\n",
    "\n",
    "# 24, 25, 26, 28\n",
    "play2(ax, coordinate_to_action(24, 25, 1))\n",
    "play2(ax, coordinate_to_action(26, 28, 2))\n",
    "\n",
    "# play(ax, 64*2 + action_space)\n",
    "# play(ax, 500 + action_space)\n",
    "# play(ax, 3071 + action_space)\n",
    "\n",
    "plt.show()"
   ]
  }
 ],
 "metadata": {
  "kernelspec": {
   "display_name": ".venv",
   "language": "python",
   "name": "python3"
  },
  "language_info": {
   "codemirror_mode": {
    "name": "ipython",
    "version": 3
   },
   "file_extension": ".py",
   "mimetype": "text/x-python",
   "name": "python",
   "nbconvert_exporter": "python",
   "pygments_lexer": "ipython3",
   "version": "3.11.5"
  }
 },
 "nbformat": 4,
 "nbformat_minor": 5
}
